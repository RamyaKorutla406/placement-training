{
  "nbformat": 4,
  "nbformat_minor": 0,
  "metadata": {
    "colab": {
      "provenance": [],
      "authorship_tag": "ABX9TyNT+x0o/1GbSd8KsSEzJHqz",
      "include_colab_link": true
    },
    "kernelspec": {
      "name": "python3",
      "display_name": "Python 3"
    },
    "language_info": {
      "name": "python"
    }
  },
  "cells": [
    {
      "cell_type": "markdown",
      "metadata": {
        "id": "view-in-github",
        "colab_type": "text"
      },
      "source": [
        "<a href=\"https://colab.research.google.com/github/RamyaKorutla406/placement-training/blob/main/recursion2.ipynb\" target=\"_parent\"><img src=\"https://colab.research.google.com/assets/colab-badge.svg\" alt=\"Open In Colab\"/></a>"
      ]
    },
    {
      "cell_type": "code",
      "execution_count": null,
      "metadata": {
        "colab": {
          "base_uri": "https://localhost:8080/"
        },
        "id": "vxZmBtXJImOb",
        "outputId": "25fff9f0-d732-481f-f068-f3ace32f334c"
      },
      "outputs": [
        {
          "output_type": "stream",
          "name": "stdout",
          "text": [
            "15\n"
          ]
        }
      ],
      "source": [
        "#sum of natural numbers with recursion\n",
        "'''def fun(n):\n",
        "    if n==0:\n",
        "        return 0\n",
        "    return n+fun(n-1)\n",
        "n=int(input())\n",
        "print(fun(n))'''\n",
        "#parameterized recursion\n",
        "def fun(n,sum):\n",
        "    if n<1:\n",
        "        print(sum)\n",
        "        return\n",
        "    fun(n-1,sum+n)\n",
        "n=5\n",
        "fun(n,0)"
      ]
    },
    {
      "cell_type": "code",
      "source": [
        "def fun(arr,i=0,res=[]):\n",
        "  if i==len(arr):\n",
        "    print(res)\n",
        "    return\n",
        "  fun(arr,i+1,res+[arr[i]])\n",
        "  fun(arr,i+1,res)\n",
        "l=[1,2,3]\n",
        "fun(l)"
      ],
      "metadata": {
        "colab": {
          "base_uri": "https://localhost:8080/"
        },
        "id": "IcTbvar-ONFI",
        "outputId": "17392378-b8ff-4fef-b8dc-50c465adfe11"
      },
      "execution_count": null,
      "outputs": [
        {
          "output_type": "stream",
          "name": "stdout",
          "text": [
            "[1, 2, 3]\n",
            "[1, 2]\n",
            "[1, 3]\n",
            "[1]\n",
            "[2, 3]\n",
            "[2]\n",
            "[3]\n",
            "[]\n"
          ]
        }
      ]
    },
    {
      "cell_type": "code",
      "source": [
        "def fun(arr,i,k):\n",
        "  if k==0:\n",
        "    return True\n",
        "  if i==0:\n",
        "    return False\n",
        "  if arr[i-1]>k:\n",
        "    return fun(arr,i-1,k)\n",
        "  return fun(arr,i-1,k) or fun(arr,i-1,k-arr[i-1])\n",
        "l=[1,2,3,8]\n",
        "k=5\n",
        "print(fun(l,len(l),k))"
      ],
      "metadata": {
        "colab": {
          "base_uri": "https://localhost:8080/"
        },
        "id": "GeD_EHJihd4Y",
        "outputId": "adf47ee9-fdc3-4e34-e27f-153e270b0d58"
      },
      "execution_count": null,
      "outputs": [
        {
          "output_type": "stream",
          "name": "stdout",
          "text": [
            "True\n"
          ]
        }
      ]
    },
    {
      "cell_type": "code",
      "source": [
        "def fun(arr,k,i=0,res=[]):\n",
        "  if i==len(arr):\n",
        "    if sum(res)==k:\n",
        "      print(res)\n",
        "    return\n",
        "  fun(arr,k,i+1,res+[arr[i]])\n",
        "  fun(arr,k,i+1,res)\n",
        "l=[1,2,3,6]\n",
        "k=7\n",
        "fun(l,k)"
      ],
      "metadata": {
        "colab": {
          "base_uri": "https://localhost:8080/"
        },
        "id": "IUdPjJnyEGyf",
        "outputId": "08766581-5b3f-408d-e590-235a2957521f"
      },
      "execution_count": 1,
      "outputs": [
        {
          "output_type": "stream",
          "name": "stdout",
          "text": [
            "[1, 6]\n"
          ]
        }
      ]
    },
    {
      "cell_type": "code",
      "source": [
        "def fun(arr,target,i=0):\n",
        "  if i==len(arr):\n",
        "    return 0\n",
        "  if arr[i]==target:\n",
        "    return 1 + fun(arr,target,i+1)\n",
        "  else:\n",
        "    return fun(arr,target,i+1)\n",
        "arr=[1, 2, 2, 3, 4, 2, 3, 3]\n",
        "target=1\n",
        "freq=fun(arr,target)\n",
        "print(freq)"
      ],
      "metadata": {
        "colab": {
          "base_uri": "https://localhost:8080/"
        },
        "id": "nE1fBXTXFD42",
        "outputId": "2b5399b9-dfcd-46d0-8044-c0c6c9719c00"
      },
      "execution_count": 2,
      "outputs": [
        {
          "output_type": "stream",
          "name": "stdout",
          "text": [
            "1\n"
          ]
        }
      ]
    },
    {
      "cell_type": "code",
      "source": [
        "from posixpath import join\n",
        "t=int(input())\n",
        "for _ in range(t):\n",
        "  i=1\n",
        "  count=0\n",
        "  k=int(input())\n",
        "  while(1):\n",
        "    if i%3!=0 and i%10!=1:\n",
        "      count+=1\n",
        "      if count==k:\n",
        "        print(i)\n",
        "        break\n",
        "    i+=1"
      ],
      "metadata": {
        "colab": {
          "base_uri": "https://localhost:8080/"
        },
        "id": "IRz2z_rCfNVA",
        "outputId": "134700ed-f077-48bf-c10e-fb9548bad0b1"
      },
      "execution_count": 3,
      "outputs": [
        {
          "output_type": "stream",
          "name": "stdout",
          "text": [
            "2\n",
            "3\n",
            "5\n",
            "8\n",
            "14\n"
          ]
        }
      ]
    }
  ]
}