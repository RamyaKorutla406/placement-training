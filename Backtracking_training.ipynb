{
  "nbformat": 4,
  "nbformat_minor": 0,
  "metadata": {
    "colab": {
      "provenance": [],
      "authorship_tag": "ABX9TyM4RoYEKgNtjyfix5Q1xALj",
      "include_colab_link": true
    },
    "kernelspec": {
      "name": "python3",
      "display_name": "Python 3"
    },
    "language_info": {
      "name": "python"
    }
  },
  "cells": [
    {
      "cell_type": "markdown",
      "metadata": {
        "id": "view-in-github",
        "colab_type": "text"
      },
      "source": [
        "<a href=\"https://colab.research.google.com/github/RamyaKorutla406/placement-training/blob/main/Backtracking_training.ipynb\" target=\"_parent\"><img src=\"https://colab.research.google.com/assets/colab-badge.svg\" alt=\"Open In Colab\"/></a>"
      ]
    },
    {
      "cell_type": "code",
      "execution_count": null,
      "metadata": {
        "colab": {
          "base_uri": "https://localhost:8080/"
        },
        "id": "QO82Z1tdSsBp",
        "outputId": "b63fabd8-e070-4816-db08-7950b3f51a5f"
      },
      "outputs": [
        {
          "output_type": "stream",
          "name": "stdout",
          "text": [
            "45\n"
          ]
        }
      ],
      "source": [
        "m=[[1,2,3],\n",
        "   [4,5,6],\n",
        "   [7,8,9]\n",
        "  ]\n",
        "rows=len(m)\n",
        "cols=len(m[0])\n",
        "sum=0\n",
        "for i in range(rows):\n",
        "  for j in range(cols):\n",
        "    sum+=m[i][j]\n",
        "print(sum)"
      ]
    },
    {
      "cell_type": "code",
      "source": [
        "m = [\n",
        "    [1, 2],\n",
        "    [3, 4]\n",
        "]\n",
        "\n",
        "rows = len(m)\n",
        "cols = len(m[0])\n",
        "\n",
        "for i in range(rows):\n",
        "    for j in range(cols):\n",
        "        num = m[i][j]\n",
        "        if num > 1:\n",
        "            k = 2\n",
        "            is_prime = 1\n",
        "            while k * k <= num:\n",
        "                if num % k == 0:\n",
        "                    is_prime = 0\n",
        "                    break\n",
        "                k += 1\n",
        "            if is_prime == 1:\n",
        "                print(num)"
      ],
      "metadata": {
        "colab": {
          "base_uri": "https://localhost:8080/"
        },
        "id": "FEVR1FVzTGMb",
        "outputId": "20f351e2-6dc4-46b9-947e-8758ad13106f"
      },
      "execution_count": null,
      "outputs": [
        {
          "output_type": "stream",
          "name": "stdout",
          "text": [
            "2\n",
            "3\n"
          ]
        }
      ]
    },
    {
      "cell_type": "code",
      "source": [
        "def path(m,i,j,p,n):\n",
        "  if i==n-1 and j==n-1:\n",
        "    print(p)\n",
        "    return\n",
        "  if i+1<n and m[i+1][j]==1:\n",
        "    path(m,i+1,j,p+\"D\",n)\n",
        "  if j+1<n and m[i][j+1]==1:\n",
        "    path(m,i,j+1,p+\"R\",n)\n",
        "m=[[1,1,1,0],[0,1,1,0],[0,1,1,1],[0,0,0,1]]\n",
        "path(m,0,0,\" \",len(m))"
      ],
      "metadata": {
        "colab": {
          "base_uri": "https://localhost:8080/"
        },
        "id": "embekhVIc3o5",
        "outputId": "057a1dcc-30f5-4614-88a6-b7c5b3b27a7d"
      },
      "execution_count": null,
      "outputs": [
        {
          "output_type": "stream",
          "name": "stdout",
          "text": [
            " RDDRRD\n",
            " RDRDRD\n",
            " RRDDRD\n"
          ]
        }
      ]
    },
    {
      "cell_type": "code",
      "source": [
        "def path(m,i,j,p,n):\n",
        "  if i==n-1 and j==n-1:\n",
        "    print(p)\n",
        "    return\n",
        "  if i+1<n and m[i+1][j]==1:\n",
        "    path(m,i+1,j,p+\"D\",n)\n",
        "  if j+1<n and m[i][j+1]==1:\n",
        "    path(m,i,j+1,p+\"R\",n)\n",
        "  if i-1>=0 and m[i-1][j]==1:\n",
        "    path(m,i-1,j,p+\"U\",n)\n",
        "  if j-1>=0 and m[i][j-1]==1:\n",
        "    path(m,i,j-1,p+\"L\",n)\n",
        "m=[[1,1,1,0],[0,1,1,0],[0,1,1,1],[0,0,0,1]]\n"
      ],
      "metadata": {
        "id": "M2yRT90kh1NS"
      },
      "execution_count": null,
      "outputs": []
    },
    {
      "cell_type": "code",
      "source": [
        "def fire(m,i,j):\n",
        "  if not m:\n",
        "    return\n",
        "  if i<0 or i>=len(m) or j<0 or j>=len(m) or m[i][j]!=1:\n",
        "    return\n",
        "  m[i][j]=2\n",
        "  fire(m,i+1,j)\n",
        "  fire(m,i-1,j)\n",
        "  fire(m,i,j+1)\n",
        "  fire(m,i,j-1)\n",
        "m=[[1,1,1,0],[0,1,1,0],[1,0,0,0],[1,0,0,1]]\n",
        "fire(m,0,0)\n",
        "count=0\n",
        "for i in range(len(m)):\n",
        "  for j in range(len(m[0])):\n",
        "    if m[i][j]==1:\n",
        "      count+=1\n",
        "print(count)"
      ],
      "metadata": {
        "colab": {
          "base_uri": "https://localhost:8080/"
        },
        "id": "FK5BQpRolCTd",
        "outputId": "f125c0f0-4b2d-4029-ee3b-2cd3bc26d927"
      },
      "execution_count": null,
      "outputs": [
        {
          "output_type": "stream",
          "name": "stdout",
          "text": [
            "3\n"
          ]
        }
      ]
    },
    {
      "cell_type": "code",
      "source": [
        "def islands(m,i,j):\n",
        "  if not m:\n",
        "    return\n",
        "  if i<0 or i>=len(m) or j<0 or j>=len(m) or m[i][j]!=1:\n",
        "    return\n",
        "  m[i][j]=2\n",
        "  islands(m,i+1,j)\n",
        "  islands(m,i-1,j)\n",
        "  islands(m,i,j+1)\n",
        "  islands(m,i,j-1)\n",
        "m=[[1,1,1,0],[0,1,1,0],[1,0,0,0],[1,0,0,1]]\n",
        "count=0\n",
        "for i in range(len(m)):\n",
        "  for j in range(len(m[0])):\n",
        "    if m[i][j]==1:\n",
        "      islands(m,i,j)\n",
        "      count+=1\n",
        "print(count)"
      ],
      "metadata": {
        "colab": {
          "base_uri": "https://localhost:8080/"
        },
        "id": "osp2p0Tby7Nt",
        "outputId": "3254ace2-e73c-4026-9384-fc0912c1631c"
      },
      "execution_count": null,
      "outputs": [
        {
          "output_type": "stream",
          "name": "stdout",
          "text": [
            "3\n"
          ]
        }
      ]
    },
    {
      "cell_type": "code",
      "source": [
        "def binary(n,res=\"\"):\n",
        "    if n==0:\n",
        "      print(res)\n",
        "      return\n",
        "    binary(n-1,res+\"0 \")\n",
        "    binary(n-1,res+\"1 \")\n",
        "n=2\n",
        "binary(n)\n"
      ],
      "metadata": {
        "colab": {
          "base_uri": "https://localhost:8080/"
        },
        "id": "zOHjLXPE2Oia",
        "outputId": "c1143d95-4759-40f4-f8a0-4f237a08b78d"
      },
      "execution_count": null,
      "outputs": [
        {
          "output_type": "stream",
          "name": "stdout",
          "text": [
            "0 0 \n",
            "0 1 \n",
            "1 0 \n",
            "1 1 \n"
          ]
        }
      ]
    },
    {
      "cell_type": "code",
      "source": [
        "def parentheses(n,i=0,j=0, result=\"\"):\n",
        "  if len(result) == 2 * n:\n",
        "    print(result)\n",
        "    return\n",
        "  if i < n:\n",
        "    parentheses(n,i + 1,j, result + \"(\")\n",
        "  if j < i:\n",
        "    parentheses(n,i,j+ 1, result + \")\")\n",
        "parentheses(3)"
      ],
      "metadata": {
        "colab": {
          "base_uri": "https://localhost:8080/"
        },
        "id": "gNqYMRVgJsPT",
        "outputId": "071ddfdd-754c-4486-d780-253c7a3ed38e"
      },
      "execution_count": 1,
      "outputs": [
        {
          "output_type": "stream",
          "name": "stdout",
          "text": [
            "((()))\n",
            "(()())\n",
            "(())()\n",
            "()(())\n",
            "()()()\n"
          ]
        }
      ]
    },
    {
      "cell_type": "code",
      "source": [
        "def binary(n,res=\"\",o=0,c=0):\n",
        "  if o==n and c==n:\n",
        "    print(res)\n",
        "    return\n",
        "  if o<n:\n",
        "    binary(n,res+\"(\",o+1,c)\n",
        "  if c<o:\n",
        "    binary(n,res+\")\",o,c+1)\n",
        "n=2\n",
        "binary(n)"
      ],
      "metadata": {
        "colab": {
          "base_uri": "https://localhost:8080/"
        },
        "id": "yuh-RIE0ZcQ8",
        "outputId": "00a27af2-db3c-4269-ddc1-ee4418b6cd95"
      },
      "execution_count": 3,
      "outputs": [
        {
          "output_type": "stream",
          "name": "stdout",
          "text": [
            "(())\n",
            "()()\n"
          ]
        }
      ]
    }
  ]
}