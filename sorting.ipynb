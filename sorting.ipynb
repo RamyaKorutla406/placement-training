{
  "nbformat": 4,
  "nbformat_minor": 0,
  "metadata": {
    "colab": {
      "provenance": [],
      "authorship_tag": "ABX9TyNJJx+0rd2loxTpSldE9wZ9",
      "include_colab_link": true
    },
    "kernelspec": {
      "name": "python3",
      "display_name": "Python 3"
    },
    "language_info": {
      "name": "python"
    }
  },
  "cells": [
    {
      "cell_type": "markdown",
      "metadata": {
        "id": "view-in-github",
        "colab_type": "text"
      },
      "source": [
        "<a href=\"https://colab.research.google.com/github/RamyaKorutla406/placement-training/blob/main/sorting.ipynb\" target=\"_parent\"><img src=\"https://colab.research.google.com/assets/colab-badge.svg\" alt=\"Open In Colab\"/></a>"
      ]
    },
    {
      "cell_type": "code",
      "execution_count": null,
      "metadata": {
        "colab": {
          "base_uri": "https://localhost:8080/"
        },
        "id": "jvJUtUiPcRb2",
        "outputId": "6aa0c904-19c5-4920-e586-3ac45316dbfa"
      },
      "outputs": [
        {
          "output_type": "stream",
          "name": "stdout",
          "text": [
            "enter the no.of elements:4\n",
            "\n",
            "Enter the numbers : 5 7 10 2\n",
            "[2, 5, 7, 10]\n"
          ]
        }
      ],
      "source": [
        "\n",
        "def insertionSort(arr):\n",
        "  for i in range(1, len(arr)):\n",
        "    key = arr[i]\n",
        "    j = i - 1\n",
        "    while j >= 0 and key < arr[j]:\n",
        "      arr[j + 1] = arr[j]\n",
        "      j -= 1\n",
        "    arr[j + 1] = key\n",
        "  return arr\n",
        "n=int(input(\"enter the no.of elements:\"))\n",
        "n = list(map(int,input(\"\\nEnter the numbers : \").split()))\n",
        "print(insertionSort(n))\n"
      ]
    },
    {
      "cell_type": "code",
      "source": [
        "\n",
        "def bubbleSort(arr):\n",
        "  n = len(arr)\n",
        "  for i in range(n):\n",
        "    for j in range(0, n - i - 1):\n",
        "      if arr[j] > arr[j + 1]:\n",
        "        arr[j], arr[j + 1] = arr[j + 1], arr[j]\n",
        "  return arr\n",
        "n=int(input(\"enter the no.of elements:\"))\n",
        "n = list(map(int,input(\"\\nEnter the numbers : \").split()))\n",
        "print(bubbleSort(n))"
      ],
      "metadata": {
        "colab": {
          "base_uri": "https://localhost:8080/"
        },
        "id": "2Y1_1kWwebJB",
        "outputId": "c7fcb1ff-0805-4b55-8ba0-74d81fe61505"
      },
      "execution_count": null,
      "outputs": [
        {
          "output_type": "stream",
          "name": "stdout",
          "text": [
            "enter the no.of elements:5\n",
            "\n",
            "Enter the numbers : 2 8 7 1 5\n",
            "[1, 2, 5, 7, 8]\n"
          ]
        }
      ]
    },
    {
      "cell_type": "code",
      "source": [
        "def fun(arr,i,j):\n",
        "  n=len(arr)\n",
        "  flag=False\n",
        "  for i in range(i):\n",
        "    for j in range(len(arr)-1,i-1):\n",
        "      if arr[j]>arr[j+1]:\n",
        "        arr[j+1], arr[j]=arr[j+1],arr[j]\n",
        "        flage=True\n",
        "arr=[2,3,4,5,6,7]\n",
        "fun(arr,0,0)\n",
        "print(arr)"
      ],
      "metadata": {
        "colab": {
          "base_uri": "https://localhost:8080/"
        },
        "id": "-UhtZ_mQgOnc",
        "outputId": "8a23be23-961f-44f6-db05-8c1941cb3155"
      },
      "execution_count": null,
      "outputs": [
        {
          "output_type": "stream",
          "name": "stdout",
          "text": [
            "[2, 3, 4, 5, 6, 7]\n"
          ]
        }
      ]
    },
    {
      "cell_type": "code",
      "source": [
        "arr=[64,25,12,22,11]\n",
        "n=len(arr)\n",
        "for i in range(n):\n",
        "  min=i\n",
        "  for j in range(i+1,n):\n",
        "    if arr[j]<arr[min]:\n",
        "      min=j\n",
        "  arr[i],arr[min]=arr[min],arr[i]\n",
        "print(arr)\n"
      ],
      "metadata": {
        "colab": {
          "base_uri": "https://localhost:8080/"
        },
        "id": "xkx9fOXejC6_",
        "outputId": "583f9670-db2a-40de-a365-432694add3c9"
      },
      "execution_count": null,
      "outputs": [
        {
          "output_type": "stream",
          "name": "stdout",
          "text": [
            "[11, 12, 22, 25, 64]\n"
          ]
        }
      ]
    },
    {
      "cell_type": "code",
      "source": [
        "l=[3,2,6,4,1,5,7]\n",
        "l.sort()\n",
        "res=[]\n",
        "for i in l:\n",
        "  if i%2!=0:\n",
        "    res.append(i)\n",
        "  else:\n",
        "    res.insert(0,i)\n",
        "print(res)"
      ],
      "metadata": {
        "colab": {
          "base_uri": "https://localhost:8080/"
        },
        "id": "__tA7L4Qru0r",
        "outputId": "51148016-a128-4420-b0b8-4af1718ed0fe"
      },
      "execution_count": null,
      "outputs": [
        {
          "output_type": "stream",
          "name": "stdout",
          "text": [
            "[6, 4, 2, 1, 3, 5, 7]\n"
          ]
        }
      ]
    },
    {
      "cell_type": "code",
      "source": [
        "l=[3,2,6,4,7,1,5]\n",
        "max1=0\n",
        "for i in l:\n",
        "  if i>max1:\n",
        "    max1=i\n",
        "print(max1)"
      ],
      "metadata": {
        "colab": {
          "base_uri": "https://localhost:8080/"
        },
        "id": "brjIo8j01mkK",
        "outputId": "92a3d44d-0747-4642-9826-222dba60f417"
      },
      "execution_count": null,
      "outputs": [
        {
          "output_type": "stream",
          "name": "stdout",
          "text": [
            "7\n"
          ]
        }
      ]
    },
    {
      "cell_type": "code",
      "source": [
        "l=[3,2,6,4,7,1,5]\n",
        "max1=0\n",
        "for i in l:\n",
        "  if i>max1:\n",
        "    max1=i\n",
        "max2=0\n",
        "for i in l:\n",
        "  if i>max2 and i!=max1:\n",
        "    max2=i\n",
        "print(max2)"
      ],
      "metadata": {
        "colab": {
          "base_uri": "https://localhost:8080/"
        },
        "id": "MSfhN_Pc3vPD",
        "outputId": "eac1fac1-5597-404d-ef47-f71e92e1d50e"
      },
      "execution_count": null,
      "outputs": [
        {
          "output_type": "stream",
          "name": "stdout",
          "text": [
            "6\n"
          ]
        }
      ]
    },
    {
      "cell_type": "code",
      "source": [
        "l=[3,2,6,4,7,1,5]\n",
        "k=4\n",
        "n=len(l)\n",
        "for i in range(k):\n",
        "    for j in range(0,n-1-i):\n",
        "        if l[j]>l[j+1]:\n",
        "            l[j],l[j+1]=l[j+1],l[j]\n",
        "print(l[-k])"
      ],
      "metadata": {
        "colab": {
          "base_uri": "https://localhost:8080/"
        },
        "id": "9e3-JMEK5UJx",
        "outputId": "37e0de3f-316a-4450-94b9-6ae887de903a"
      },
      "execution_count": null,
      "outputs": [
        {
          "output_type": "stream",
          "name": "stdout",
          "text": [
            "4\n"
          ]
        }
      ]
    },
    {
      "cell_type": "code",
      "source": [
        "arr = [2,3,1,5,6,9,8]\n",
        "n = len(arr)\n",
        "if n % 2 == 1:\n",
        "  middle_index = n // 2\n",
        "  print(arr[middle_index])\n",
        "else:\n",
        "  middle1_index = n // 2 - 1\n",
        "  middle2_index = n // 2\n",
        "  print(arr[middle1_index], arr[middle2_index])"
      ],
      "metadata": {
        "colab": {
          "base_uri": "https://localhost:8080/"
        },
        "id": "lbXWoYtw7LdW",
        "outputId": "d2deb0f8-5651-43bb-9f4a-80f87eb2bca4"
      },
      "execution_count": null,
      "outputs": [
        {
          "output_type": "stream",
          "name": "stdout",
          "text": [
            "5\n"
          ]
        }
      ]
    },
    {
      "cell_type": "code",
      "source": [
        "l=[[1,3],[2,1],[3,2]]\n",
        "k=2\n",
        "n=len(l)\n",
        "for i in range(k,n):\n",
        "    for j in range(0,n-1-i):\n",
        "        if l[j][1]>l[j+1][1]:\n",
        "            l[j],l[j+1]=l[j+1],l[j]\n",
        "print(l)"
      ],
      "metadata": {
        "colab": {
          "base_uri": "https://localhost:8080/"
        },
        "id": "807pIXPeD9Mc",
        "outputId": "b0860e7d-c509-4419-e6f6-3df65bf65586"
      },
      "execution_count": null,
      "outputs": [
        {
          "output_type": "stream",
          "name": "stdout",
          "text": [
            "[[1, 3], [2, 1], [3, 2]]\n"
          ]
        }
      ]
    },
    {
      "cell_type": "code",
      "source": [
        "l=[[20,12,11],[10,5,22],[16,7,30]]\n",
        "n=len(l)\n",
        "for i in range(n):\n",
        "    for j in range(0,n-1-i):\n",
        "        if l[j][1]>l[j+1][1]:\n",
        "            l[j],l[j+1]=l[j+1],l[j]\n",
        "print(l)"
      ],
      "metadata": {
        "colab": {
          "base_uri": "https://localhost:8080/"
        },
        "id": "DG0xHBULUR7p",
        "outputId": "ae8ab774-9118-4720-b558-8ab8fb062c82"
      },
      "execution_count": 2,
      "outputs": [
        {
          "output_type": "stream",
          "name": "stdout",
          "text": [
            "[[10, 5, 22], [16, 7, 30], [20, 12, 11]]\n"
          ]
        }
      ]
    },
    {
      "cell_type": "code",
      "source": [
        "def prime(x):\n",
        "  for i in x:\n",
        "    for j in range(2,int(i**0.5)+1):\n",
        "      if i%j==0:\n",
        "         break\n",
        "      return i\n",
        "  return None\n",
        "l=[[20,12,11],[10,5,22],[16,7,30]]\n",
        "b=[]\n",
        "n=len(l)\n",
        "for i in l:\n",
        "    b.append(prime(i))\n",
        "for i in range(n):\n",
        "    for j in range(0,n-i-1):\n",
        "        if b[j]>b[j+1]:\n",
        "           b[j],b[j+1]=b[j+1],b[j]\n",
        "           l[j],l[j+1]=l[j+1],l[j]\n",
        "print(l)"
      ],
      "metadata": {
        "colab": {
          "base_uri": "https://localhost:8080/"
        },
        "id": "aJCyxF3-aL3z",
        "outputId": "b3bf29ed-a4b4-46eb-e654-39b49b7bf465"
      },
      "execution_count": 4,
      "outputs": [
        {
          "output_type": "stream",
          "name": "stdout",
          "text": [
            "[[10, 5, 22], [16, 7, 30], [20, 12, 11]]\n"
          ]
        }
      ]
    },
    {
      "cell_type": "code",
      "source": [
        "def frequency(arr):\n",
        "    freq, res = [], []\n",
        "    for ch in arr:\n",
        "        for f in freq:\n",
        "            if f[0] == ch:\n",
        "                f[1] += 1\n",
        "                break\n",
        "        else:\n",
        "            freq.append([ch, 1])\n",
        "    for i in range(len(freq)):\n",
        "        for j in range(i+1, len(freq)):\n",
        "            if freq[i][1] > freq[j][1]:\n",
        "                freq[i], freq[j] = freq[j], freq[i]\n",
        "    for ch, c in freq:\n",
        "        for _ in range(c):\n",
        "            res.append(ch)\n",
        "    return res\n",
        "print(frequency(['a', 'b', 'b', 'b', 'c', 'c']))"
      ],
      "metadata": {
        "colab": {
          "base_uri": "https://localhost:8080/"
        },
        "id": "IvrI81qhoCnd",
        "outputId": "72e116a4-c993-45af-be98-9ff07a62070c"
      },
      "execution_count": 8,
      "outputs": [
        {
          "output_type": "stream",
          "name": "stdout",
          "text": [
            "['a', 'c', 'c', 'b', 'b', 'b']\n"
          ]
        }
      ]
    },
    {
      "cell_type": "code",
      "source": [
        "s=[\"aaaa\",\"aa\",\"aaaaaa\",\"aa\"]\n",
        "freq={}\n",
        "for c in s:\n",
        "    if c in freq:\n",
        "        freq[c]+=1\n",
        "    else:\n",
        "        freq[c]=1\n",
        "sc=sorted(freq.items(),key=lambda item:item[1])\n",
        "res=\"\"\n",
        "for c,count in sc:\n",
        "    res+=c*count\n",
        "print(res)"
      ],
      "metadata": {
        "colab": {
          "base_uri": "https://localhost:8080/"
        },
        "id": "wzTqN5DAgyCo",
        "outputId": "e719b324-0cee-42d2-a263-4061099c2a65"
      },
      "execution_count": 6,
      "outputs": [
        {
          "output_type": "stream",
          "name": "stdout",
          "text": [
            "aaaaaaaaaaaaaa\n"
          ]
        }
      ]
    },
    {
      "cell_type": "code",
      "source": [
        "m=[[1,0,0,1],[1,1,0,0],[0,1,0,1]]\n",
        "a=[4,3,2,6]\n",
        "for i in range(len(m)):\n",
        "  sum=0\n",
        "  for j in range(len(m[0])):\n",
        "    if m[i][j]==1:\n",
        "      sum+=a[j]\n",
        "  print(sum)"
      ],
      "metadata": {
        "colab": {
          "base_uri": "https://localhost:8080/"
        },
        "id": "YMTx4Aegwvpd",
        "outputId": "729c5e12-96da-420c-9443-47fa7d965529"
      },
      "execution_count": 9,
      "outputs": [
        {
          "output_type": "stream",
          "name": "stdout",
          "text": [
            "10\n",
            "7\n",
            "9\n"
          ]
        }
      ]
    }
  ]
}